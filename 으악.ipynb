{
  "nbformat": 4,
  "nbformat_minor": 0,
  "metadata": {
    "colab": {
      "name": "으악",
      "provenance": [],
      "collapsed_sections": [],
      "authorship_tag": "ABX9TyOSFI7QIjrxx3ZUGkgNloxB",
      "include_colab_link": true
    },
    "kernelspec": {
      "name": "python3",
      "display_name": "Python 3"
    },
    "language_info": {
      "name": "python"
    },
    "accelerator": "GPU"
  },
  "cells": [
    {
      "cell_type": "markdown",
      "metadata": {
        "id": "view-in-github",
        "colab_type": "text"
      },
      "source": [
        "<a href=\"https://colab.research.google.com/github/Raymondgwangryeol/segmentation-selectstar/blob/master/%EC%9C%BC%EC%95%85.ipynb\" target=\"_parent\"><img src=\"https://colab.research.google.com/assets/colab-badge.svg\" alt=\"Open In Colab\"/></a>"
      ]
    },
    {
      "cell_type": "code",
      "metadata": {
        "id": "U19dOCEvo6wJ",
        "colab": {
          "base_uri": "https://localhost:8080/"
        },
        "outputId": "d186b90f-4815-4bc7-a9b1-44c97348d300"
      },
      "source": [
        "#깃 불러오기\n",
        "!git clone https://github.com/Raymondgwangryeol/segmentation-selectstar.git"
      ],
      "execution_count": null,
      "outputs": [
        {
          "output_type": "stream",
          "text": [
            "Cloning into 'segmentation-selectstar'...\n",
            "remote: Enumerating objects: 293, done.\u001b[K\n",
            "remote: Counting objects: 100% (293/293), done.\u001b[K\n",
            "remote: Compressing objects: 100% (151/151), done.\u001b[K\n",
            "remote: Total 293 (delta 158), reused 255 (delta 132), pack-reused 0\u001b[K\n",
            "Receiving objects: 100% (293/293), 7.66 MiB | 33.97 MiB/s, done.\n",
            "Resolving deltas: 100% (158/158), done.\n"
          ],
          "name": "stdout"
        }
      ]
    },
    {
      "cell_type": "code",
      "metadata": {
        "colab": {
          "base_uri": "https://localhost:8080/"
        },
        "id": "HAIpC1G_pmRo",
        "outputId": "3e70381b-b258-4c8a-f2c4-a20aaca437c5"
      },
      "source": [
        "#구글 드라이브 연동\n",
        "from google.colab import drive\n",
        "drive.mount('/content/drive', force_remount=True)\n",
        "\n",
        "!which python # should return /usr/local/bin/python\n",
        "!python --version\n",
        "!echo $PYTHONPATH # /env/python\n",
        "\n",
        "#PYTHONPATH를 unset해야한다. \n",
        "#위에 처럼 세팅된 디렉토리로 놔두면, 접근 에러가 발생할 수 있다.\n",
        "%env PYTHONPATH="
      ],
      "execution_count": null,
      "outputs": [
        {
          "output_type": "stream",
          "text": [
            "Mounted at /content/drive\n",
            "/usr/local/bin/python\n",
            "Python 3.7.10\n",
            "/env/python\n",
            "env: PYTHONPATH=\n"
          ],
          "name": "stdout"
        }
      ]
    },
    {
      "cell_type": "code",
      "metadata": {
        "colab": {
          "base_uri": "https://localhost:8080/"
        },
        "id": "jGQxoy0upntP",
        "outputId": "36b2075e-5710-4782-b274-6765ec19a8f4"
      },
      "source": [
        "################################################################################\n",
        "# INSTALL CONDA ON GOOGLE COLAB\n",
        "################################################################################\n",
        "! wget https://repo.anaconda.com/miniconda/Miniconda3-py37_4.9.2-Linux-x86_64.sh\n",
        "! chmod +x Miniconda3-py37_4.9.2-Linux-x86_64.sh\n",
        "! bash ./Miniconda3-py37_4.9.2-Linux-x86_64.sh -b -f -p /usr/local\n",
        "import sys\n",
        "sys.path.append('/usr/local/lib/python3.7/site-packages/')"
      ],
      "execution_count": null,
      "outputs": [
        {
          "output_type": "stream",
          "text": [
            "--2021-06-07 05:47:21--  https://repo.anaconda.com/miniconda/Miniconda3-py37_4.9.2-Linux-x86_64.sh\n",
            "Resolving repo.anaconda.com (repo.anaconda.com)... 104.16.130.3, 104.16.131.3, 2606:4700::6810:8203, ...\n",
            "Connecting to repo.anaconda.com (repo.anaconda.com)|104.16.130.3|:443... connected.\n",
            "HTTP request sent, awaiting response... 200 OK\n",
            "Length: 90040905 (86M) [application/x-sh]\n",
            "Saving to: ‘Miniconda3-py37_4.9.2-Linux-x86_64.sh’\n",
            "\n",
            "Miniconda3-py37_4.9 100%[===================>]  85.87M   214MB/s    in 0.4s    \n",
            "\n",
            "2021-06-07 05:47:22 (214 MB/s) - ‘Miniconda3-py37_4.9.2-Linux-x86_64.sh’ saved [90040905/90040905]\n",
            "\n",
            "PREFIX=/usr/local\n",
            "Unpacking payload ...\n",
            "Collecting package metadata (current_repodata.json): - \b\b\\ \b\b| \b\bdone\n",
            "Solving environment: - \b\b\\ \b\bdone\n",
            "\n",
            "## Package Plan ##\n",
            "\n",
            "  environment location: /usr/local\n",
            "\n",
            "  added / updated specs:\n",
            "    - _libgcc_mutex==0.1=main\n",
            "    - brotlipy==0.7.0=py37h27cfd23_1003\n",
            "    - ca-certificates==2020.10.14=0\n",
            "    - certifi==2020.6.20=pyhd3eb1b0_3\n",
            "    - cffi==1.14.3=py37h261ae71_2\n",
            "    - chardet==3.0.4=py37h06a4308_1003\n",
            "    - conda-package-handling==1.7.2=py37h03888b9_0\n",
            "    - conda==4.9.2=py37h06a4308_0\n",
            "    - cryptography==3.2.1=py37h3c74f83_1\n",
            "    - idna==2.10=py_0\n",
            "    - ld_impl_linux-64==2.33.1=h53a641e_7\n",
            "    - libedit==3.1.20191231=h14c3975_1\n",
            "    - libffi==3.3=he6710b0_2\n",
            "    - libgcc-ng==9.1.0=hdf63c60_0\n",
            "    - libstdcxx-ng==9.1.0=hdf63c60_0\n",
            "    - ncurses==6.2=he6710b0_1\n",
            "    - openssl==1.1.1h=h7b6447c_0\n",
            "    - pip==20.2.4=py37h06a4308_0\n",
            "    - pycosat==0.6.3=py37h27cfd23_0\n",
            "    - pycparser==2.20=py_2\n",
            "    - pyopenssl==19.1.0=pyhd3eb1b0_1\n",
            "    - pysocks==1.7.1=py37_1\n",
            "    - python==3.7.9=h7579374_0\n",
            "    - readline==8.0=h7b6447c_0\n",
            "    - requests==2.24.0=py_0\n",
            "    - ruamel_yaml==0.15.87=py37h7b6447c_1\n",
            "    - setuptools==50.3.1=py37h06a4308_1\n",
            "    - six==1.15.0=py37h06a4308_0\n",
            "    - sqlite==3.33.0=h62c20be_0\n",
            "    - tk==8.6.10=hbc83047_0\n",
            "    - tqdm==4.51.0=pyhd3eb1b0_0\n",
            "    - urllib3==1.25.11=py_0\n",
            "    - wheel==0.35.1=pyhd3eb1b0_0\n",
            "    - xz==5.2.5=h7b6447c_0\n",
            "    - yaml==0.2.5=h7b6447c_0\n",
            "    - zlib==1.2.11=h7b6447c_3\n",
            "\n",
            "\n",
            "The following NEW packages will be INSTALLED:\n",
            "\n",
            "  _libgcc_mutex      pkgs/main/linux-64::_libgcc_mutex-0.1-main\n",
            "  brotlipy           pkgs/main/linux-64::brotlipy-0.7.0-py37h27cfd23_1003\n",
            "  ca-certificates    pkgs/main/linux-64::ca-certificates-2020.10.14-0\n",
            "  certifi            pkgs/main/noarch::certifi-2020.6.20-pyhd3eb1b0_3\n",
            "  cffi               pkgs/main/linux-64::cffi-1.14.3-py37h261ae71_2\n",
            "  chardet            pkgs/main/linux-64::chardet-3.0.4-py37h06a4308_1003\n",
            "  conda              pkgs/main/linux-64::conda-4.9.2-py37h06a4308_0\n",
            "  conda-package-han~ pkgs/main/linux-64::conda-package-handling-1.7.2-py37h03888b9_0\n",
            "  cryptography       pkgs/main/linux-64::cryptography-3.2.1-py37h3c74f83_1\n",
            "  idna               pkgs/main/noarch::idna-2.10-py_0\n",
            "  ld_impl_linux-64   pkgs/main/linux-64::ld_impl_linux-64-2.33.1-h53a641e_7\n",
            "  libedit            pkgs/main/linux-64::libedit-3.1.20191231-h14c3975_1\n",
            "  libffi             pkgs/main/linux-64::libffi-3.3-he6710b0_2\n",
            "  libgcc-ng          pkgs/main/linux-64::libgcc-ng-9.1.0-hdf63c60_0\n",
            "  libstdcxx-ng       pkgs/main/linux-64::libstdcxx-ng-9.1.0-hdf63c60_0\n",
            "  ncurses            pkgs/main/linux-64::ncurses-6.2-he6710b0_1\n",
            "  openssl            pkgs/main/linux-64::openssl-1.1.1h-h7b6447c_0\n",
            "  pip                pkgs/main/linux-64::pip-20.2.4-py37h06a4308_0\n",
            "  pycosat            pkgs/main/linux-64::pycosat-0.6.3-py37h27cfd23_0\n",
            "  pycparser          pkgs/main/noarch::pycparser-2.20-py_2\n",
            "  pyopenssl          pkgs/main/noarch::pyopenssl-19.1.0-pyhd3eb1b0_1\n",
            "  pysocks            pkgs/main/linux-64::pysocks-1.7.1-py37_1\n",
            "  python             pkgs/main/linux-64::python-3.7.9-h7579374_0\n",
            "  readline           pkgs/main/linux-64::readline-8.0-h7b6447c_0\n",
            "  requests           pkgs/main/noarch::requests-2.24.0-py_0\n",
            "  ruamel_yaml        pkgs/main/linux-64::ruamel_yaml-0.15.87-py37h7b6447c_1\n",
            "  setuptools         pkgs/main/linux-64::setuptools-50.3.1-py37h06a4308_1\n",
            "  six                pkgs/main/linux-64::six-1.15.0-py37h06a4308_0\n",
            "  sqlite             pkgs/main/linux-64::sqlite-3.33.0-h62c20be_0\n",
            "  tk                 pkgs/main/linux-64::tk-8.6.10-hbc83047_0\n",
            "  tqdm               pkgs/main/noarch::tqdm-4.51.0-pyhd3eb1b0_0\n",
            "  urllib3            pkgs/main/noarch::urllib3-1.25.11-py_0\n",
            "  wheel              pkgs/main/noarch::wheel-0.35.1-pyhd3eb1b0_0\n",
            "  xz                 pkgs/main/linux-64::xz-5.2.5-h7b6447c_0\n",
            "  yaml               pkgs/main/linux-64::yaml-0.2.5-h7b6447c_0\n",
            "  zlib               pkgs/main/linux-64::zlib-1.2.11-h7b6447c_3\n",
            "\n",
            "\n",
            "Preparing transaction: / \b\b- \b\b\\ \b\bdone\n",
            "Executing transaction: / \b\b- \b\b\\ \b\b| \b\b/ \b\b- \b\b\\ \b\b| \b\b/ \b\b- \b\b\\ \b\b| \b\bdone\n",
            "installation finished.\n"
          ],
          "name": "stdout"
        }
      ]
    },
    {
      "cell_type": "code",
      "metadata": {
        "colab": {
          "base_uri": "https://localhost:8080/"
        },
        "id": "Ip6VWmrCpIG3",
        "outputId": "5c0d22b3-f1aa-40d3-ffc5-bd9f1f652add"
      },
      "source": [
        "! wget https://repo.anaconda.com/miniconda/Miniconda3-py37_4.9.2-Linux-x86_64.sh\n",
        "! chmod +x Miniconda3-py37_4.9.2-Linux-x86_64.sh\n",
        "! bash ./Miniconda3-py37_4.9.2-Linux-x86_64.sh -b -f -p /usr/local\n",
        "import sys\n",
        "sys.path.append('/usr/local/lib/python3.7/site-packages/')\n",
        "from google.colab import drive\n",
        "!drive.mount('/content/drive')\n",
        "!conda install --channel conda-forge featuretools --yes\n",
        "!conda create -n ml python==3.7\n",
        "!source activate ml\n",
        "!conda install pytorch torchvision cudatoolkit=10.1 -c pytorch"
      ],
      "execution_count": null,
      "outputs": [
        {
          "output_type": "stream",
          "text": [
            "--2021-06-07 05:48:00--  https://repo.anaconda.com/miniconda/Miniconda3-py37_4.9.2-Linux-x86_64.sh\n",
            "Resolving repo.anaconda.com (repo.anaconda.com)... 104.16.131.3, 104.16.130.3, 2606:4700::6810:8203, ...\n",
            "Connecting to repo.anaconda.com (repo.anaconda.com)|104.16.131.3|:443... connected.\n",
            "HTTP request sent, awaiting response... 200 OK\n",
            "Length: 90040905 (86M) [application/x-sh]\n",
            "Saving to: ‘Miniconda3-py37_4.9.2-Linux-x86_64.sh.1’\n",
            "\n",
            "Miniconda3-py37_4.9 100%[===================>]  85.87M   197MB/s    in 0.4s    \n",
            "\n",
            "2021-06-07 05:48:01 (197 MB/s) - ‘Miniconda3-py37_4.9.2-Linux-x86_64.sh.1’ saved [90040905/90040905]\n",
            "\n",
            "PREFIX=/usr/local\n",
            "Unpacking payload ...\n",
            "Collecting package metadata (current_repodata.json): - \b\b\\ \b\bdone\n",
            "Solving environment: / \b\b- \b\b\\ \b\bdone\n",
            "\n",
            "# All requested packages already installed.\n",
            "\n",
            "installation finished.\n",
            "/bin/bash: -c: line 0: syntax error near unexpected token `'/content/drive''\n",
            "/bin/bash: -c: line 0: `drive.mount('/content/drive')'\n",
            "Collecting package metadata (current_repodata.json): - \b\b\\ \b\b| \b\b/ \b\b- \b\b\\ \b\b| \b\b/ \b\b- \b\b\\ \b\b| \b\b/ \b\b- \b\b\\ \b\b| \b\b/ \b\b- \b\b\\ \b\b| \b\b/ \b\b- \b\b\\ \b\b| \b\b/ \b\b- \b\b\\ \b\b| \b\b/ \b\b- \b\b\\ \b\b| \b\b/ \b\b- \b\b\\ \b\b| \b\b/ \b\b- \b\b\\ \b\b| \b\b/ \b\b- \b\b\\ \b\b| \b\b/ \b\b- \b\b\\ \b\b| \b\b/ \b\b- \b\b\\ \b\b| \b\b/ \b\b- \b\b\\ \b\b| \b\b/ \b\b- \b\b\\ \b\b| \b\b/ \b\b- \b\b\\ \b\b| \b\b/ \b\b- \b\b\\ \b\b| \b\b/ \b\b- \b\b\\ \b\bdone\n",
            "Solving environment: / \b\b- \b\b\\ \b\b| \b\b/ \b\b- \b\b\\ \b\b| \b\b/ \b\b- \b\b\\ \b\b| \b\b/ \b\b- \b\b\\ \b\b| \b\b/ \b\b- \b\b\\ \b\b| \b\b/ \b\b- \b\b\\ \b\b| \b\b/ \b\b- \b\b\\ \b\b| \b\bdone\n",
            "\n",
            "\n",
            "==> WARNING: A newer version of conda exists. <==\n",
            "  current version: 4.9.2\n",
            "  latest version: 4.10.1\n",
            "\n",
            "Please update conda by running\n",
            "\n",
            "    $ conda update -n base -c defaults conda\n",
            "\n",
            "\n",
            "\n",
            "## Package Plan ##\n",
            "\n",
            "  environment location: /usr/local\n",
            "\n",
            "  added / updated specs:\n",
            "    - featuretools\n",
            "\n",
            "\n",
            "The following packages will be downloaded:\n",
            "\n",
            "    package                    |            build\n",
            "    ---------------------------|-----------------\n",
            "    bokeh-1.4.0                |   py37hc8dfbb8_1        13.5 MB  conda-forge\n",
            "    ca-certificates-2021.5.30  |       ha878542_0         136 KB  conda-forge\n",
            "    certifi-2021.5.30          |   py37h89c1867_0         141 KB  conda-forge\n",
            "    click-8.0.1                |   py37h89c1867_0         145 KB  conda-forge\n",
            "    cloudpickle-1.6.0          |             py_0          22 KB  conda-forge\n",
            "    conda-4.10.1               |   py37h89c1867_0         3.1 MB  conda-forge\n",
            "    cytoolz-0.11.0             |   py37h4abf009_1         368 KB  conda-forge\n",
            "    dask-2021.6.0              |     pyhd8ed1ab_0           4 KB  conda-forge\n",
            "    dask-core-2021.6.0         |     pyhd8ed1ab_0         739 KB  conda-forge\n",
            "    distributed-2021.6.0       |   py37h89c1867_0         1.1 MB  conda-forge\n",
            "    featuretools-0.24.1        |     pyhd8ed1ab_0         263 KB  conda-forge\n",
            "    freetype-2.10.4            |       h7ca028e_0         912 KB  conda-forge\n",
            "    fsspec-2021.5.0            |     pyhd8ed1ab_0          77 KB  conda-forge\n",
            "    heapdict-1.0.1             |             py_0           7 KB  conda-forge\n",
            "    importlib-metadata-4.5.0   |   py37h89c1867_0          31 KB  conda-forge\n",
            "    jinja2-2.11.3              |     pyh44b312d_0          93 KB  conda-forge\n",
            "    jpeg-9d                    |       h36c2ea0_0         264 KB  conda-forge\n",
            "    libblas-3.9.0              |       8_openblas          11 KB  conda-forge\n",
            "    libcblas-3.9.0             |       8_openblas          11 KB  conda-forge\n",
            "    libgfortran-ng-7.5.0       |      h14aa051_19          22 KB  conda-forge\n",
            "    libgfortran4-7.5.0         |      h14aa051_19         1.3 MB  conda-forge\n",
            "    liblapack-3.9.0            |       8_openblas          11 KB  conda-forge\n",
            "    libopenblas-0.3.12         |pthreads_hb3c22a3_1         8.2 MB  conda-forge\n",
            "    libpng-1.6.37              |       h21135ba_2         306 KB  conda-forge\n",
            "    libtiff-4.0.10             |    hc3755c2_1005         602 KB  conda-forge\n",
            "    locket-0.2.0               |             py_2           6 KB  conda-forge\n",
            "    lz4-c-1.9.2                |       he1b5a44_3         203 KB  conda-forge\n",
            "    markupsafe-1.1.1           |   py37hb5d75c8_2          27 KB  conda-forge\n",
            "    msgpack-python-1.0.2       |   py37hff7bd54_1          81 KB\n",
            "    numpy-1.19.4               |   py37h7e9df27_1         5.2 MB  conda-forge\n",
            "    olefile-0.46               |     pyh9f0ad1d_1          32 KB  conda-forge\n",
            "    openssl-1.1.1k             |       h27cfd23_0         2.5 MB\n",
            "    packaging-20.9             |     pyh44b312d_0          35 KB  conda-forge\n",
            "    pandas-1.2.4               |   py37h2531618_0         8.5 MB\n",
            "    partd-1.2.0                |     pyhd8ed1ab_0          18 KB  conda-forge\n",
            "    pillow-6.2.1               |   py37h6b7be26_0         637 KB  conda-forge\n",
            "    psutil-5.8.0               |   py37h27cfd23_1         329 KB\n",
            "    pyparsing-2.4.7            |     pyh9f0ad1d_0          60 KB  conda-forge\n",
            "    python-dateutil-2.8.1      |             py_0         220 KB  conda-forge\n",
            "    python_abi-3.7             |          1_cp37m           4 KB  conda-forge\n",
            "    pytz-2021.1                |     pyhd8ed1ab_0         239 KB  conda-forge\n",
            "    pyyaml-5.4.1               |   py37h27cfd23_1         168 KB\n",
            "    scipy-1.5.3                |   py37h8911b10_0        18.5 MB  conda-forge\n",
            "    sortedcontainers-2.4.0     |     pyhd8ed1ab_0          26 KB  conda-forge\n",
            "    tblib-1.7.0                |     pyhd8ed1ab_0          15 KB  conda-forge\n",
            "    toolz-0.11.1               |             py_0          46 KB  conda-forge\n",
            "    tornado-6.1                |   py37h4abf009_0         645 KB  conda-forge\n",
            "    typing_extensions-3.10.0.0 |     pyha770c72_0          28 KB  conda-forge\n",
            "    zict-2.0.0                 |             py_0          10 KB  conda-forge\n",
            "    zipp-3.4.1                 |     pyhd8ed1ab_0          11 KB  conda-forge\n",
            "    zstd-1.4.5                 |       h9ceee32_0         619 KB\n",
            "    ------------------------------------------------------------\n",
            "                                           Total:        69.4 MB\n",
            "\n",
            "The following NEW packages will be INSTALLED:\n",
            "\n",
            "  bokeh              conda-forge/linux-64::bokeh-1.4.0-py37hc8dfbb8_1\n",
            "  click              conda-forge/linux-64::click-8.0.1-py37h89c1867_0\n",
            "  cloudpickle        conda-forge/noarch::cloudpickle-1.6.0-py_0\n",
            "  cytoolz            conda-forge/linux-64::cytoolz-0.11.0-py37h4abf009_1\n",
            "  dask               conda-forge/noarch::dask-2021.6.0-pyhd8ed1ab_0\n",
            "  dask-core          conda-forge/noarch::dask-core-2021.6.0-pyhd8ed1ab_0\n",
            "  distributed        conda-forge/linux-64::distributed-2021.6.0-py37h89c1867_0\n",
            "  featuretools       conda-forge/noarch::featuretools-0.24.1-pyhd8ed1ab_0\n",
            "  freetype           conda-forge/linux-64::freetype-2.10.4-h7ca028e_0\n",
            "  fsspec             conda-forge/noarch::fsspec-2021.5.0-pyhd8ed1ab_0\n",
            "  heapdict           conda-forge/noarch::heapdict-1.0.1-py_0\n",
            "  importlib-metadata conda-forge/linux-64::importlib-metadata-4.5.0-py37h89c1867_0\n",
            "  jinja2             conda-forge/noarch::jinja2-2.11.3-pyh44b312d_0\n",
            "  jpeg               conda-forge/linux-64::jpeg-9d-h36c2ea0_0\n",
            "  libblas            conda-forge/linux-64::libblas-3.9.0-8_openblas\n",
            "  libcblas           conda-forge/linux-64::libcblas-3.9.0-8_openblas\n",
            "  libgfortran-ng     conda-forge/linux-64::libgfortran-ng-7.5.0-h14aa051_19\n",
            "  libgfortran4       conda-forge/linux-64::libgfortran4-7.5.0-h14aa051_19\n",
            "  liblapack          conda-forge/linux-64::liblapack-3.9.0-8_openblas\n",
            "  libopenblas        conda-forge/linux-64::libopenblas-0.3.12-pthreads_hb3c22a3_1\n",
            "  libpng             conda-forge/linux-64::libpng-1.6.37-h21135ba_2\n",
            "  libtiff            conda-forge/linux-64::libtiff-4.0.10-hc3755c2_1005\n",
            "  locket             conda-forge/noarch::locket-0.2.0-py_2\n",
            "  lz4-c              conda-forge/linux-64::lz4-c-1.9.2-he1b5a44_3\n",
            "  markupsafe         conda-forge/linux-64::markupsafe-1.1.1-py37hb5d75c8_2\n",
            "  msgpack-python     pkgs/main/linux-64::msgpack-python-1.0.2-py37hff7bd54_1\n",
            "  numpy              conda-forge/linux-64::numpy-1.19.4-py37h7e9df27_1\n",
            "  olefile            conda-forge/noarch::olefile-0.46-pyh9f0ad1d_1\n",
            "  packaging          conda-forge/noarch::packaging-20.9-pyh44b312d_0\n",
            "  pandas             pkgs/main/linux-64::pandas-1.2.4-py37h2531618_0\n",
            "  partd              conda-forge/noarch::partd-1.2.0-pyhd8ed1ab_0\n",
            "  pillow             conda-forge/linux-64::pillow-6.2.1-py37h6b7be26_0\n",
            "  psutil             pkgs/main/linux-64::psutil-5.8.0-py37h27cfd23_1\n",
            "  pyparsing          conda-forge/noarch::pyparsing-2.4.7-pyh9f0ad1d_0\n",
            "  python-dateutil    conda-forge/noarch::python-dateutil-2.8.1-py_0\n",
            "  python_abi         conda-forge/linux-64::python_abi-3.7-1_cp37m\n",
            "  pytz               conda-forge/noarch::pytz-2021.1-pyhd8ed1ab_0\n",
            "  pyyaml             pkgs/main/linux-64::pyyaml-5.4.1-py37h27cfd23_1\n",
            "  scipy              conda-forge/linux-64::scipy-1.5.3-py37h8911b10_0\n",
            "  sortedcontainers   conda-forge/noarch::sortedcontainers-2.4.0-pyhd8ed1ab_0\n",
            "  tblib              conda-forge/noarch::tblib-1.7.0-pyhd8ed1ab_0\n",
            "  toolz              conda-forge/noarch::toolz-0.11.1-py_0\n",
            "  tornado            conda-forge/linux-64::tornado-6.1-py37h4abf009_0\n",
            "  typing_extensions  conda-forge/noarch::typing_extensions-3.10.0.0-pyha770c72_0\n",
            "  zict               conda-forge/noarch::zict-2.0.0-py_0\n",
            "  zipp               conda-forge/noarch::zipp-3.4.1-pyhd8ed1ab_0\n",
            "  zstd               pkgs/main/linux-64::zstd-1.4.5-h9ceee32_0\n",
            "\n",
            "The following packages will be UPDATED:\n",
            "\n",
            "  ca-certificates    pkgs/main::ca-certificates-2020.10.14~ --> conda-forge::ca-certificates-2021.5.30-ha878542_0\n",
            "  certifi            pkgs/main/noarch::certifi-2020.6.20-p~ --> conda-forge/linux-64::certifi-2021.5.30-py37h89c1867_0\n",
            "  conda               pkgs/main::conda-4.9.2-py37h06a4308_0 --> conda-forge::conda-4.10.1-py37h89c1867_0\n",
            "  openssl                                 1.1.1h-h7b6447c_0 --> 1.1.1k-h27cfd23_0\n",
            "\n",
            "\n",
            "\n",
            "Downloading and Extracting Packages\n",
            "importlib-metadata-4 | 31 KB     | : 100% 1.0/1 [00:00<00:00, 12.55it/s]\n",
            "heapdict-1.0.1       | 7 KB      | : 100% 1.0/1 [00:00<00:00, 25.97it/s]\n",
            "scipy-1.5.3          | 18.5 MB   | : 100% 1.0/1 [00:02<00:00,  2.78s/it]               \n",
            "cytoolz-0.11.0       | 368 KB    | : 100% 1.0/1 [00:00<00:00,  8.49it/s]\n",
            "typing_extensions-3. | 28 KB     | : 100% 1.0/1 [00:00<00:00, 25.42it/s]\n",
            "cloudpickle-1.6.0    | 22 KB     | : 100% 1.0/1 [00:00<00:00, 25.77it/s]\n",
            "zstd-1.4.5           | 619 KB    | : 100% 1.0/1 [00:00<00:00,  6.79it/s]\n",
            "toolz-0.11.1         | 46 KB     | : 100% 1.0/1 [00:00<00:00, 19.59it/s]\n",
            "distributed-2021.6.0 | 1.1 MB    | : 100% 1.0/1 [00:00<00:00,  3.23it/s]\n",
            "libopenblas-0.3.12   | 8.2 MB    | : 100% 1.0/1 [00:01<00:00,  1.32s/it]\n",
            "openssl-1.1.1k       | 2.5 MB    | : 100% 1.0/1 [00:00<00:00,  7.25it/s]\n",
            "libpng-1.6.37        | 306 KB    | : 100% 1.0/1 [00:00<00:00,  9.95it/s]\n",
            "markupsafe-1.1.1     | 27 KB     | : 100% 1.0/1 [00:00<00:00, 25.84it/s]\n",
            "python-dateutil-2.8. | 220 KB    | : 100% 1.0/1 [00:00<00:00, 14.65it/s]\n",
            "ca-certificates-2021 | 136 KB    | : 100% 1.0/1 [00:00<00:00, 17.64it/s]\n",
            "numpy-1.19.4         | 5.2 MB    | : 100% 1.0/1 [00:00<00:00,  1.08it/s]\n",
            "tornado-6.1          | 645 KB    | : 100% 1.0/1 [00:00<00:00,  6.17it/s]\n",
            "click-8.0.1          | 145 KB    | : 100% 1.0/1 [00:00<00:00, 16.28it/s]\n",
            "libcblas-3.9.0       | 11 KB     | : 100% 1.0/1 [00:00<00:00, 28.68it/s]\n",
            "dask-2021.6.0        | 4 KB      | : 100% 1.0/1 [00:00<00:00, 31.38it/s]\n",
            "dask-core-2021.6.0   | 739 KB    | : 100% 1.0/1 [00:00<00:00,  4.89it/s]\n",
            "sortedcontainers-2.4 | 26 KB     | : 100% 1.0/1 [00:00<00:00, 26.96it/s]\n",
            "libgfortran-ng-7.5.0 | 22 KB     | : 100% 1.0/1 [00:00<00:00, 23.68it/s]\n",
            "locket-0.2.0         | 6 KB      | : 100% 1.0/1 [00:00<00:00, 29.52it/s]\n",
            "packaging-20.9       | 35 KB     | : 100% 1.0/1 [00:00<00:00, 25.47it/s]\n",
            "pandas-1.2.4         | 8.5 MB    | : 100% 1.0/1 [00:00<00:00,  1.79it/s]\n",
            "zipp-3.4.1           | 11 KB     | : 100% 1.0/1 [00:00<00:00, 26.57it/s]\n",
            "lz4-c-1.9.2          | 203 KB    | : 100% 1.0/1 [00:00<00:00, 14.60it/s]\n",
            "partd-1.2.0          | 18 KB     | : 100% 1.0/1 [00:00<00:00, 28.90it/s]\n",
            "libgfortran4-7.5.0   | 1.3 MB    | : 100% 1.0/1 [00:00<00:00,  4.26it/s]\n",
            "psutil-5.8.0         | 329 KB    | : 100% 1.0/1 [00:00<00:00, 16.74it/s]\n",
            "libtiff-4.0.10       | 602 KB    | : 100% 1.0/1 [00:00<00:00,  7.98it/s]\n",
            "pyparsing-2.4.7      | 60 KB     | : 100% 1.0/1 [00:00<00:00, 20.11it/s]\n",
            "conda-4.10.1         | 3.1 MB    | : 100% 1.0/1 [00:00<00:00,  1.78it/s]\n",
            "jpeg-9d              | 264 KB    | : 100% 1.0/1 [00:00<00:00, 13.62it/s]\n",
            "liblapack-3.9.0      | 11 KB     | : 100% 1.0/1 [00:00<00:00, 29.27it/s]\n",
            "python_abi-3.7       | 4 KB      | : 100% 1.0/1 [00:00<00:00, 30.37it/s]\n",
            "certifi-2021.5.30    | 141 KB    | : 100% 1.0/1 [00:00<00:00, 20.14it/s]\n",
            "pytz-2021.1          | 239 KB    | : 100% 1.0/1 [00:00<00:00,  8.75it/s]\n",
            "tblib-1.7.0          | 15 KB     | : 100% 1.0/1 [00:00<00:00, 26.17it/s]\n",
            "libblas-3.9.0        | 11 KB     | : 100% 1.0/1 [00:00<00:00, 21.29it/s]\n",
            "fsspec-2021.5.0      | 77 KB     | : 100% 1.0/1 [00:00<00:00, 19.72it/s]\n",
            "featuretools-0.24.1  | 263 KB    | : 100% 1.0/1 [00:00<00:00,  8.59it/s]\n",
            "pillow-6.2.1         | 637 KB    | : 100% 1.0/1 [00:00<00:00,  7.29it/s]\n",
            "bokeh-1.4.0          | 13.5 MB   | : 100% 1.0/1 [00:03<00:00,  3.15s/it]\n",
            "jinja2-2.11.3        | 93 KB     | : 100% 1.0/1 [00:00<00:00, 17.31it/s]\n",
            "pyyaml-5.4.1         | 168 KB    | : 100% 1.0/1 [00:00<00:00, 16.53it/s]\n",
            "freetype-2.10.4      | 912 KB    | : 100% 1.0/1 [00:00<00:00,  5.60it/s]\n",
            "msgpack-python-1.0.2 | 81 KB     | : 100% 1.0/1 [00:00<00:00, 13.09it/s]\n",
            "olefile-0.46         | 32 KB     | : 100% 1.0/1 [00:00<00:00, 22.66it/s]\n",
            "zict-2.0.0           | 10 KB     | : 100% 1.0/1 [00:00<00:00, 27.84it/s]\n",
            "Preparing transaction: - \b\b\\ \b\b| \b\b/ \b\bdone\n",
            "Verifying transaction: \\ \b\b| \b\b/ \b\b- \b\b\\ \b\b| \b\b/ \b\b- \b\b\\ \b\bdone\n",
            "Executing transaction: / \b\b- \b\b\\ \b\b| \b\b/ \b\b- \b\b\\ \b\b| \b\b/ \b\b- \b\b\\ \b\b| \b\b/ \b\b- \b\b\\ \b\b| \b\b/ \b\b- \b\b\\ \b\b| \b\b/ \b\b- \b\b\\ \b\b| \b\b/ \b\bdone\n",
            "Collecting package metadata (current_repodata.json): - \b\b\\ \b\b| \b\bdone\n",
            "Solving environment: - \b\bfailed with repodata from current_repodata.json, will retry with next repodata source.\n",
            "Collecting package metadata (repodata.json): | \b\b/ \b\b- \b\b\\ \b\b| \b\b/ \b\b- \b\b\\ \b\b| \b\b/ \b\b- \b\b\\ \b\b| \b\b/ \b\b- \b\b\\ \b\b| \b\b/ \b\b- \b\b\\ \b\b| \b\b/ \b\b- \b\b\\ \b\b| \b\b/ \b\b- \b\b\\ \b\b| \b\b/ \b\b- \b\b\\ \b\b| \b\bdone\n",
            "Solving environment: - \b\b\\ \b\b| \b\bdone\n",
            "\n",
            "## Package Plan ##\n",
            "\n",
            "  environment location: /usr/local/envs/ml\n",
            "\n",
            "  added / updated specs:\n",
            "    - python==3.7\n",
            "\n",
            "\n",
            "The following packages will be downloaded:\n",
            "\n",
            "    package                    |            build\n",
            "    ---------------------------|-----------------\n",
            "    ca-certificates-2021.5.25  |       h06a4308_1         112 KB\n",
            "    certifi-2021.5.30          |   py37h06a4308_0         139 KB\n",
            "    libedit-3.1.20210216       |       h27cfd23_1         167 KB\n",
            "    libffi-3.2.1               |    hf484d3e_1007          48 KB\n",
            "    openssl-1.0.2u             |       h7b6447c_0         2.2 MB\n",
            "    pip-21.1.1                 |   py37h06a4308_0         1.8 MB\n",
            "    python-3.7.0               |       h6e4f718_3        27.2 MB\n",
            "    readline-7.0               |       h7b6447c_5         324 KB\n",
            "    setuptools-52.0.0          |   py37h06a4308_0         710 KB\n",
            "    wheel-0.36.2               |     pyhd3eb1b0_0          33 KB\n",
            "    ------------------------------------------------------------\n",
            "                                           Total:        32.6 MB\n",
            "\n",
            "The following NEW packages will be INSTALLED:\n",
            "\n",
            "  _libgcc_mutex      pkgs/main/linux-64::_libgcc_mutex-0.1-main\n",
            "  ca-certificates    pkgs/main/linux-64::ca-certificates-2021.5.25-h06a4308_1\n",
            "  certifi            pkgs/main/linux-64::certifi-2021.5.30-py37h06a4308_0\n",
            "  libedit            pkgs/main/linux-64::libedit-3.1.20210216-h27cfd23_1\n",
            "  libffi             pkgs/main/linux-64::libffi-3.2.1-hf484d3e_1007\n",
            "  libgcc-ng          pkgs/main/linux-64::libgcc-ng-9.1.0-hdf63c60_0\n",
            "  libstdcxx-ng       pkgs/main/linux-64::libstdcxx-ng-9.1.0-hdf63c60_0\n",
            "  ncurses            pkgs/main/linux-64::ncurses-6.2-he6710b0_1\n",
            "  openssl            pkgs/main/linux-64::openssl-1.0.2u-h7b6447c_0\n",
            "  pip                pkgs/main/linux-64::pip-21.1.1-py37h06a4308_0\n",
            "  python             pkgs/main/linux-64::python-3.7.0-h6e4f718_3\n",
            "  readline           pkgs/main/linux-64::readline-7.0-h7b6447c_5\n",
            "  setuptools         pkgs/main/linux-64::setuptools-52.0.0-py37h06a4308_0\n",
            "  sqlite             pkgs/main/linux-64::sqlite-3.33.0-h62c20be_0\n",
            "  tk                 pkgs/main/linux-64::tk-8.6.10-hbc83047_0\n",
            "  wheel              pkgs/main/noarch::wheel-0.36.2-pyhd3eb1b0_0\n",
            "  xz                 pkgs/main/linux-64::xz-5.2.5-h7b6447c_0\n",
            "  zlib               pkgs/main/linux-64::zlib-1.2.11-h7b6447c_3\n",
            "\n",
            "\n",
            "Proceed ([y]/n)? ㅛ\n",
            "Invalid choice: ㅛ\n",
            "Proceed ([y]/n)? ㅛ\n",
            "Invalid choice: ㅛ\n",
            "Proceed ([y]/n)? y\n",
            "\n",
            "\n",
            "Downloading and Extracting Packages\n",
            "setuptools-52.0.0    | 710 KB    | : 100% 1.0/1 [00:00<00:00,  6.61it/s]\n",
            "openssl-1.0.2u       | 2.2 MB    | : 100% 1.0/1 [00:00<00:00,  8.58it/s]\n",
            "wheel-0.36.2         | 33 KB     | : 100% 1.0/1 [00:00<00:00, 17.21it/s]\n",
            "ca-certificates-2021 | 112 KB    | : 100% 1.0/1 [00:00<00:00, 20.56it/s]\n",
            "libedit-3.1.20210216 | 167 KB    | : 100% 1.0/1 [00:00<00:00, 18.59it/s]\n",
            "pip-21.1.1           | 1.8 MB    | : 100% 1.0/1 [00:00<00:00,  6.44it/s]\n",
            "readline-7.0         | 324 KB    | : 100% 1.0/1 [00:00<00:00, 15.94it/s]\n",
            "python-3.7.0         | 27.2 MB   | : 100% 1.0/1 [00:00<00:00,  1.36it/s]               \n",
            "libffi-3.2.1         | 48 KB     | : 100% 1.0/1 [00:00<00:00, 17.14it/s]\n",
            "certifi-2021.5.30    | 139 KB    | : 100% 1.0/1 [00:00<00:00, 20.00it/s]\n",
            "Preparing transaction: - \b\b\\ \b\b| \b\bdone\n",
            "Verifying transaction: - \b\b\\ \b\b| \b\b/ \b\b- \b\b\\ \b\b| \b\b/ \b\b- \b\b\\ \b\b| \b\b/ \b\b- \b\bdone\n",
            "Executing transaction: | \b\b/ \b\b- \b\b\\ \b\b| \b\b/ \b\b- \b\b\\ \b\b| \b\b/ \b\bdone\n",
            "#\n",
            "# To activate this environment, use\n",
            "#\n",
            "#     $ conda activate ml\n",
            "#\n",
            "# To deactivate an active environment, use\n",
            "#\n",
            "#     $ conda deactivate\n",
            "\n",
            "Collecting package metadata (current_repodata.json): - \b\b\\ \b\b| \b\b/ \b\b- \b\b\\ \b\b| \b\b/ \b\b- \b\b\\ \b\b| \b\b/ \b\b- \b\b\\ \b\b| \b\b/ \b\b- \b\b\\ \b\bdone\n",
            "Solving environment: / \b\b- \b\b\\ \b\b| \b\b/ \b\b- \b\b\\ \b\b| \b\b/ \b\b- \b\b\\ \b\b| \b\b/ \b\b- \b\b\\ \b\b| \b\b/ \b\bdone\n",
            "\n",
            "## Package Plan ##\n",
            "\n",
            "  environment location: /usr/local\n",
            "\n",
            "  added / updated specs:\n",
            "    - cudatoolkit=10.1\n",
            "    - pytorch\n",
            "    - torchvision\n",
            "\n",
            "\n",
            "The following packages will be downloaded:\n",
            "\n",
            "    package                    |            build\n",
            "    ---------------------------|-----------------\n",
            "    conda-4.10.1               |   py37h06a4308_1         2.9 MB\n",
            "    cudatoolkit-10.1.243       |       h6bb024c_0       347.4 MB\n",
            "    intel-openmp-2021.2.0      |     h06a4308_610         1.3 MB\n",
            "    mkl-2021.2.0               |     h06a4308_296       144.3 MB\n",
            "    ninja-1.10.2               |       hff7bd54_1         1.4 MB\n",
            "    pytorch-1.4.0              |py3.7_cuda10.1.243_cudnn7.6.3_0       432.9 MB  pytorch\n",
            "    torchvision-0.5.0          |       py37_cu101         9.1 MB  pytorch\n",
            "    ------------------------------------------------------------\n",
            "                                           Total:       939.3 MB\n",
            "\n",
            "The following NEW packages will be INSTALLED:\n",
            "\n",
            "  cudatoolkit        pkgs/main/linux-64::cudatoolkit-10.1.243-h6bb024c_0\n",
            "  intel-openmp       pkgs/main/linux-64::intel-openmp-2021.2.0-h06a4308_610\n",
            "  mkl                pkgs/main/linux-64::mkl-2021.2.0-h06a4308_296\n",
            "  ninja              pkgs/main/linux-64::ninja-1.10.2-hff7bd54_1\n",
            "  pytorch            pytorch/linux-64::pytorch-1.4.0-py3.7_cuda10.1.243_cudnn7.6.3_0\n",
            "  torchvision        pytorch/linux-64::torchvision-0.5.0-py37_cu101\n",
            "\n",
            "The following packages will be UPDATED:\n",
            "\n",
            "  conda              conda-forge::conda-4.10.1-py37h89c186~ --> pkgs/main::conda-4.10.1-py37h06a4308_1\n",
            "\n",
            "The following packages will be SUPERSEDED by a higher-priority channel:\n",
            "\n",
            "  certifi            conda-forge::certifi-2021.5.30-py37h8~ --> pkgs/main::certifi-2021.5.30-py37h06a4308_0\n",
            "\n",
            "\n",
            "Proceed ([y]/n)? y\n",
            "\n",
            "\n",
            "Downloading and Extracting Packages\n",
            "mkl-2021.2.0         | 144.3 MB  | : 100% 1.0/1 [00:05<00:00,  5.31s/it]\n",
            "pytorch-1.4.0        | 432.9 MB  | : 100% 1.0/1 [01:00<00:00, 60.87s/it]              \n",
            "conda-4.10.1         | 2.9 MB    | : 100% 1.0/1 [00:00<00:00,  5.85it/s]\n",
            "ninja-1.10.2         | 1.4 MB    | : 100% 1.0/1 [00:00<00:00, 10.07it/s]\n",
            "torchvision-0.5.0    | 9.1 MB    | : 100% 1.0/1 [00:02<00:00,  2.30s/it]              \n",
            "intel-openmp-2021.2. | 1.3 MB    | : 100% 1.0/1 [00:00<00:00, 11.80it/s]\n",
            "cudatoolkit-10.1.243 | 347.4 MB  | : 100% 1.0/1 [00:13<00:00, 13.47s/it]               \n",
            "Preparing transaction: \\ \b\b| \b\bdone\n",
            "Verifying transaction: - \b\b\\ \b\b| \b\b/ \b\b- \b\b\\ \b\bdone\n",
            "Executing transaction: / \b\b- \b\b\\ \b\b| \b\b/ \b\b- \b\b\\ \b\b| \b\b/ \b\b- \b\b\\ \b\b| \b\b/ \b\b- \b\b\\ \b\b| \b\b/ \b\b- \b\b\\ \b\b| \b\b/ \b\b- \b\b\\ \b\b| \b\b/ \b\b- \b\b\\ \b\b| \b\b/ \b\b- \b\b\\ \b\b| \b\b/ \b\b- \b\b\\ \b\b| \b\b/ \b\b- \b\b\\ \b\b| \b\b/ \b\b- \b\b\\ \b\b| \b\b/ \b\b- \b\b\\ \b\b| \b\b/ \b\b- \b\b\\ \b\b| \b\b/ \b\b- \b\b\\ \b\b| \b\b/ \b\b- \b\b\\ \b\b| \b\b/ \b\b- \b\b\\ \b\b| \b\b/ \b\b- \b\b\\ \b\b| \b\b/ \b\b- \b\b\\ \b\b| \b\b/ \b\b- \b\b\\ \b\b| \b\b/ \b\b- \b\b\\ \b\b| \b\b/ \b\b- \b\b\\ \b\b| \b\b/ \b\b- \b\b\\ \b\b| \b\b/ \b\b- \b\b\\ \b\b| \b\b/ \b\b- \b\b\\ \b\b| \b\b/ \b\b- \b\b\\ \b\b| \b\b/ \b\b- \b\b\\ \b\b| \b\b/ \b\b- \b\b\\ \b\b| \b\b/ \b\b- \b\b\\ \b\b| \b\b/ \b\b- \b\b\\ \b\b| \b\b/ \b\b- \b\b\\ \b\b| \b\b/ \b\b- \b\b\\ \b\b| \b\b/ \b\b- \b\b\\ \b\b| \b\b/ \b\b- \b\b\\ \b\b| \b\b/ \b\b- \b\b\\ \b\b| \b\b/ \b\b- \b\b\\ \b\b| \b\b/ \b\b- \b\b\\ \b\b| \b\b/ \b\b- \b\b\\ \b\b| \b\b/ \b\b- \b\b\\ \b\b| \b\b/ \b\b- \b\b\\ \b\b| \b\b/ \b\b- \b\b\\ \b\b| \b\b/ \b\b- \b\b\\ \b\b| \b\b/ \b\b- \b\b\\ \b\b| \b\b/ \b\b- \b\b\\ \b\b| \b\b/ \b\b- \b\b\\ \b\b| \b\b/ \b\b- \b\b\\ \b\b| \b\b/ \b\b- \b\b\\ \b\b| \b\b/ \b\b- \b\b\\ \b\b| \b\b/ \b\b- \b\b\\ \b\b| \b\b/ \b\b- \b\b\\ \b\bdone\n"
          ],
          "name": "stdout"
        }
      ]
    },
    {
      "cell_type": "code",
      "metadata": {
        "colab": {
          "base_uri": "https://localhost:8080/"
        },
        "id": "hR8cztkl_j6Y",
        "outputId": "335189c8-3873-4b93-a040-dd62bb42cb07"
      },
      "source": [
        "# tensorboardx 설치\n",
        "!pip install 'git+https://github.com/lanpa/tensorboardX'\n",
        "!pip install matplotlib"
      ],
      "execution_count": 4,
      "outputs": [
        {
          "output_type": "stream",
          "text": [
            "Collecting git+https://github.com/lanpa/tensorboardX\n",
            "  Cloning https://github.com/lanpa/tensorboardX to /tmp/pip-req-build-dgp2xcac\n",
            "Requirement already satisfied: numpy in /usr/local/lib/python3.7/site-packages (from tensorboardX==2.2+1f774cf) (1.19.4)\n",
            "Requirement already satisfied: protobuf>=3.8.0 in /usr/local/lib/python3.7/site-packages (from tensorboardX==2.2+1f774cf) (3.17.2)\n",
            "Requirement already satisfied: six>=1.9 in /usr/local/lib/python3.7/site-packages (from protobuf>=3.8.0->tensorboardX==2.2+1f774cf) (1.15.0)\n",
            "Building wheels for collected packages: tensorboardX\n",
            "  Building wheel for tensorboardX (setup.py) ... \u001b[?25l\u001b[?25hdone\n",
            "  Created wheel for tensorboardX: filename=tensorboardX-2.2-py2.py3-none-any.whl size=124496 sha256=287c349556f71f30051f0a3e5768e98b4c0a315991b93a92e329512cd3d5bc81\n",
            "  Stored in directory: /tmp/pip-ephem-wheel-cache-dkhpcjbf/wheels/b7/a3/60/1fb0fb70622c281e7b4450c3102965499af9875bbcf6cd277e\n",
            "Successfully built tensorboardX\n",
            "Installing collected packages: tensorboardX\n",
            "  Attempting uninstall: tensorboardX\n",
            "    Found existing installation: tensorboardX 2.2\n",
            "    Uninstalling tensorboardX-2.2:\n",
            "      Successfully uninstalled tensorboardX-2.2\n",
            "Successfully installed tensorboardX-2.2\n",
            "Requirement already satisfied: matplotlib in /usr/local/lib/python3.7/site-packages (3.4.2)\n",
            "Requirement already satisfied: kiwisolver>=1.0.1 in /usr/local/lib/python3.7/site-packages (from matplotlib) (1.3.1)\n",
            "Requirement already satisfied: numpy>=1.16 in /usr/local/lib/python3.7/site-packages (from matplotlib) (1.19.4)\n",
            "Requirement already satisfied: pyparsing>=2.2.1 in /usr/local/lib/python3.7/site-packages (from matplotlib) (2.4.7)\n",
            "Requirement already satisfied: python-dateutil>=2.7 in /usr/local/lib/python3.7/site-packages (from matplotlib) (2.8.1)\n",
            "Requirement already satisfied: cycler>=0.10 in /usr/local/lib/python3.7/site-packages (from matplotlib) (0.10.0)\n",
            "Requirement already satisfied: pillow>=6.2.0 in /usr/local/lib/python3.7/site-packages (from matplotlib) (6.2.1)\n",
            "Requirement already satisfied: six>=1.5 in /usr/local/lib/python3.7/site-packages (from python-dateutil>=2.7->matplotlib) (1.15.0)\n"
          ],
          "name": "stdout"
        }
      ]
    },
    {
      "cell_type": "code",
      "metadata": {
        "colab": {
          "base_uri": "https://localhost:8080/"
        },
        "id": "UQtvfgjALKVT",
        "outputId": "9f6b98b6-cb81-4fcc-f696-84f49b8102cc"
      },
      "source": [
        "!conda env list"
      ],
      "execution_count": null,
      "outputs": [
        {
          "output_type": "stream",
          "text": [
            "# conda environments:\n",
            "#\n",
            "base                  *  /usr/local\n",
            "ml                       /usr/local/envs/ml\n",
            "\n"
          ],
          "name": "stdout"
        }
      ]
    },
    {
      "cell_type": "code",
      "metadata": {
        "colab": {
          "base_uri": "https://localhost:8080/"
        },
        "id": "82FdIM9VMnDI",
        "outputId": "4f83ad6f-58e0-4060-8e6d-e5ee4f1c76e8"
      },
      "source": [
        "!pip install django"
      ],
      "execution_count": null,
      "outputs": [
        {
          "output_type": "stream",
          "text": [
            "Collecting django\n",
            "  Downloading Django-3.2.4-py3-none-any.whl (7.9 MB)\n",
            "\u001b[K     |████████████████████████████████| 7.9 MB 7.3 MB/s \n",
            "\u001b[?25hCollecting sqlparse>=0.2.2\n",
            "  Downloading sqlparse-0.4.1-py3-none-any.whl (42 kB)\n",
            "\u001b[K     |████████████████████████████████| 42 kB 1.1 MB/s \n",
            "\u001b[?25hRequirement already satisfied: pytz in /usr/local/lib/python3.7/site-packages (from django) (2021.1)\n",
            "Collecting asgiref<4,>=3.3.2\n",
            "  Downloading asgiref-3.3.4-py3-none-any.whl (22 kB)\n",
            "Requirement already satisfied: typing-extensions; python_version < \"3.8\" in /usr/local/lib/python3.7/site-packages (from asgiref<4,>=3.3.2->django) (3.10.0.0)\n",
            "Installing collected packages: sqlparse, asgiref, django\n",
            "Successfully installed asgiref-3.3.4 django-3.2.4 sqlparse-0.4.1\n"
          ],
          "name": "stdout"
        }
      ]
    },
    {
      "cell_type": "code",
      "metadata": {
        "id": "cctII6Q7MrKp",
        "colab": {
          "base_uri": "https://localhost:8080/"
        },
        "outputId": "15db2254-e3b7-46cb-a52e-7cb1d35e3316"
      },
      "source": [
        "!django-admin startproject ml ."
      ],
      "execution_count": null,
      "outputs": [
        {
          "output_type": "stream",
          "text": [
            "\u001b[31;1mCommandError: /content/manage.py already exists. Overlaying a project into an existing directory won't replace conflicting files.\n",
            "\u001b[0m"
          ],
          "name": "stdout"
        }
      ]
    },
    {
      "cell_type": "code",
      "metadata": {
        "colab": {
          "base_uri": "https://localhost:8080/"
        },
        "id": "cTBq-VEMP6tO",
        "outputId": "e29bcde9-f3ac-42dd-e161-136e0e2029e2"
      },
      "source": [
        "!pip install ipykernel"
      ],
      "execution_count": 5,
      "outputs": [
        {
          "output_type": "stream",
          "text": [
            "Requirement already satisfied: ipykernel in /usr/local/lib/python3.7/site-packages (5.5.5)\n",
            "Requirement already satisfied: tornado>=4.2 in /usr/local/lib/python3.7/site-packages (from ipykernel) (6.1)\n",
            "Requirement already satisfied: jupyter-client in /usr/local/lib/python3.7/site-packages (from ipykernel) (6.1.12)\n",
            "Requirement already satisfied: traitlets>=4.1.0 in /usr/local/lib/python3.7/site-packages (from ipykernel) (5.0.5)\n",
            "Requirement already satisfied: ipython>=5.0.0 in /usr/local/lib/python3.7/site-packages (from ipykernel) (7.24.1)\n",
            "Requirement already satisfied: python-dateutil>=2.1 in /usr/local/lib/python3.7/site-packages (from jupyter-client->ipykernel) (2.8.1)\n",
            "Requirement already satisfied: jupyter-core>=4.6.0 in /usr/local/lib/python3.7/site-packages (from jupyter-client->ipykernel) (4.7.1)\n",
            "Requirement already satisfied: pyzmq>=13 in /usr/local/lib/python3.7/site-packages (from jupyter-client->ipykernel) (22.1.0)\n",
            "Requirement already satisfied: ipython-genutils in /usr/local/lib/python3.7/site-packages (from traitlets>=4.1.0->ipykernel) (0.2.0)\n",
            "Requirement already satisfied: pickleshare in /usr/local/lib/python3.7/site-packages (from ipython>=5.0.0->ipykernel) (0.7.5)\n",
            "Requirement already satisfied: prompt-toolkit!=3.0.0,!=3.0.1,<3.1.0,>=2.0.0 in /usr/local/lib/python3.7/site-packages (from ipython>=5.0.0->ipykernel) (3.0.18)\n",
            "Requirement already satisfied: decorator in /usr/local/lib/python3.7/site-packages (from ipython>=5.0.0->ipykernel) (5.0.9)\n",
            "Requirement already satisfied: matplotlib-inline in /usr/local/lib/python3.7/site-packages (from ipython>=5.0.0->ipykernel) (0.1.2)\n",
            "Requirement already satisfied: setuptools>=18.5 in /usr/local/lib/python3.7/site-packages (from ipython>=5.0.0->ipykernel) (50.3.1.post20201107)\n",
            "Requirement already satisfied: backcall in /usr/local/lib/python3.7/site-packages (from ipython>=5.0.0->ipykernel) (0.2.0)\n",
            "Requirement already satisfied: jedi>=0.16 in /usr/local/lib/python3.7/site-packages (from ipython>=5.0.0->ipykernel) (0.18.0)\n",
            "Requirement already satisfied: pexpect>4.3; sys_platform != \"win32\" in /usr/local/lib/python3.7/site-packages (from ipython>=5.0.0->ipykernel) (4.8.0)\n",
            "Requirement already satisfied: pygments in /usr/local/lib/python3.7/site-packages (from ipython>=5.0.0->ipykernel) (2.9.0)\n",
            "Requirement already satisfied: six>=1.5 in /usr/local/lib/python3.7/site-packages (from python-dateutil>=2.1->jupyter-client->ipykernel) (1.15.0)\n",
            "Requirement already satisfied: wcwidth in /usr/local/lib/python3.7/site-packages (from prompt-toolkit!=3.0.0,!=3.0.1,<3.1.0,>=2.0.0->ipython>=5.0.0->ipykernel) (0.2.5)\n",
            "Requirement already satisfied: parso<0.9.0,>=0.8.0 in /usr/local/lib/python3.7/site-packages (from jedi>=0.16->ipython>=5.0.0->ipykernel) (0.8.2)\n",
            "Requirement already satisfied: ptyprocess>=0.5 in /usr/local/lib/python3.7/site-packages (from pexpect>4.3; sys_platform != \"win32\"->ipython>=5.0.0->ipykernel) (0.7.0)\n"
          ],
          "name": "stdout"
        }
      ]
    },
    {
      "cell_type": "code",
      "metadata": {
        "id": "Ij7TxfCWz_gK"
      },
      "source": [
        "!mkdir -p /home/super/Projects/dataset/surface6"
      ],
      "execution_count": null,
      "outputs": []
    },
    {
      "cell_type": "code",
      "metadata": {
        "colab": {
          "base_uri": "https://localhost:8080/"
        },
        "id": "r1QAnR6wTtv6",
        "outputId": "d1e1957e-673a-4779-aa55-6ae95d3bdc50"
      },
      "source": [
        "!pwd\n",
        "!cd ./segmentationSelectstar/\n",
        "!pwd\n",
        "!whoami"
      ],
      "execution_count": 34,
      "outputs": [
        {
          "output_type": "stream",
          "text": [
            "/content\n",
            "/content\n",
            "root\n"
          ],
          "name": "stdout"
        }
      ]
    },
    {
      "cell_type": "code",
      "metadata": {
        "colab": {
          "base_uri": "https://localhost:8080/"
        },
        "id": "1Y56XKK3StTR",
        "outputId": "189d0d78-7f04-40c6-a7f9-7c8c44c82438"
      },
      "source": [
        "!ls -al /content/"
      ],
      "execution_count": 28,
      "outputs": [
        {
          "output_type": "stream",
          "text": [
            "total 87964\n",
            "drwxr-xr-x 1 root root     4096 Jun  7 07:02 .\n",
            "drwxr-xr-x 1 root root     4096 Jun  7 05:43 ..\n",
            "drwxr-xr-x 4 root root     4096 Jun  1 13:40 .config\n",
            "drwx------ 5 root root     4096 Jun  7 05:47 drive\n",
            "drwxr-xr-x 2 root root     4096 Jun  7 05:49 .ipynb_checkpoints\n",
            "-rw-r--r-- 1 root root 90040905 Nov 23  2020 Miniconda3-py37_4.9.2-Linux-x86_64.sh.1\n",
            "drwxr-xr-x 3 root root     4096 Jun  7 07:02 run\n",
            "drwxr-xr-x 1 root root     4096 Jun  1 13:40 sample_data\n",
            "drwxr-xr-x 8 root root     4096 Jun  7 07:02 segmentation-selectstar\n"
          ],
          "name": "stdout"
        }
      ]
    },
    {
      "cell_type": "code",
      "metadata": {
        "id": "Lj6YqharqpcV",
        "colab": {
          "base_uri": "https://localhost:8080/"
        },
        "outputId": "e5529b08-966c-4543-a879-1da9fa7ca07e"
      },
      "source": [
        "!python3 /content/segmentationSelectstar/train.py"
      ],
      "execution_count": 35,
      "outputs": [
        {
          "output_type": "stream",
          "text": [
            "settings.py couldn't be found. save_experiment_config failed.\n",
            "Traceback (most recent call last):\n",
            "  File \"/content/segmentationSelectstar/train.py\", line 174, in <module>\n",
            "    trainer = Trainer()\n",
            "  File \"/content/segmentationSelectstar/train.py\", line 21, in __init__\n",
            "    self.saver.save_experiment_config()\n",
            "  File \"/content/segmentationSelectstar/modules/utils/saver.py\", line 48, in save_experiment_config\n",
            "    copy2('settings.py', self.experiment_dir)\n",
            "  File \"/usr/local/lib/python3.7/shutil.py\", line 266, in copy2\n",
            "    copyfile(src, dst, follow_symlinks=follow_symlinks)\n",
            "  File \"/usr/local/lib/python3.7/shutil.py\", line 120, in copyfile\n",
            "    with open(src, 'rb') as fsrc:\n",
            "FileNotFoundError: [Errno 2] No such file or directory: 'settings.py'\n"
          ],
          "name": "stdout"
        }
      ]
    }
  ]
}